{
 "cells": [
  {
   "cell_type": "code",
   "execution_count": 1,
   "metadata": {},
   "outputs": [
    {
     "name": "stdout",
     "output_type": "stream",
     "text": [
      "[1, 1, 1, 2, 2, 3, 4, 4, 10, 56, 56, 0, 0, 0, 0, 0]\n"
     ]
    }
   ],
   "source": [
    "## Q1) Sort the given list acending order but zeros should be in right hand side ##\n",
    "\n",
    "Mylist=[0,1,2,10,4,1,0,56,2,0,1,3,0,56,0,4]\n",
    "Mylist.sort()\n",
    "Newlist=[]\n",
    "for num in range(len(Mylist)):\n",
    "    if Mylist[num]==0:\n",
    "        Newlist.append(0)\n",
    "for num1 in range(len(Newlist)):\n",
    "    Mylist.remove(0)\n",
    "print(Mylist+Newlist)"
   ]
  },
  {
   "cell_type": "code",
   "execution_count": 3,
   "metadata": {},
   "outputs": [
    {
     "name": "stdout",
     "output_type": "stream",
     "text": [
      "[5, 10, 15, 20, 25, 35, 40, 45, 60, 60, 70, 80]\n"
     ]
    }
   ],
   "source": [
    "##Q2) Merge 2 list using only one loop ##\n",
    "\n",
    "Mylist1=[10,20,40,60,70,80]\n",
    "Mylist2=[5,15,25,35,45,60]\n",
    "Newlist1=Mylist1+Mylist2\n",
    "Newlist2=[]\n",
    "Length=len(Newlist1)-1\n",
    "i=0\n",
    "while(i<=Length):\n",
    "    Min=min(Newlist1)\n",
    "    Newlist2.append(Min)\n",
    "    Newlist1.remove(Min)\n",
    "    i=i+1\n",
    "print(Newlist2)"
   ]
  },
  {
   "cell_type": "code",
   "execution_count": null,
   "metadata": {},
   "outputs": [],
   "source": []
  }
 ],
 "metadata": {
  "kernelspec": {
   "display_name": "Python 3",
   "language": "python",
   "name": "python3"
  },
  "language_info": {
   "codemirror_mode": {
    "name": "ipython",
    "version": 3
   },
   "file_extension": ".py",
   "mimetype": "text/x-python",
   "name": "python",
   "nbconvert_exporter": "python",
   "pygments_lexer": "ipython3",
   "version": "3.7.6"
  }
 },
 "nbformat": 4,
 "nbformat_minor": 4
}
